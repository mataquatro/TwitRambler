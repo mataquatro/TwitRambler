{
 "metadata": {
  "name": "",
  "signature": "sha256:8dad3bd951205e6c26f5998554278cb08409ca2c205d8ef09adc82b296b98801"
 },
 "nbformat": 3,
 "nbformat_minor": 0,
 "worksheets": [
  {
   "cells": [
    {
     "cell_type": "heading",
     "level": 3,
     "metadata": {},
     "source": [
      "From statements to more useful data structures"
     ]
    },
    {
     "cell_type": "markdown",
     "metadata": {},
     "source": [
      "Here, I need to create a dictionary where each word is a key. Every word that immediately follows in the statements will be saved as a value. \n",
      "\n",
      "Example: In \"Good design makes a difference.\", \"Good\" would become a key in the dictionary. The first value assigned that key would be \"design\".\n",
      "\n",
      "Also, I want to keep track of the first word in every statement. I'll use this to create a randomized starting point for to generate smart sounding statements for my Twitter profile. Remember, the goal is to get this thing saying things that won't be so repetative that it looks like a bot is running the show. \n",
      "\n",
      "The statements include the following:\n",
      "- Good design makes a difference. \n",
      "- Good research makes a difference.\n",
      "- Ethnographic research illuminates the path.\n",
      "- Doing just enough research is a skill.\n",
      "- Answer the right question.\n",
      "- Don't answer the wrong question. \n",
      "- In ethnography experience is truth.\n",
      "- In ethnography truth equals experience. \n",
      "- In UX experience is the point.\n",
      "- Ethnography is art.\n",
      "- Good design is key. \n",
      "- Plans require improv.\n",
      "- Research requires plans.\n",
      "- Truth requires digging. \n",
      "- Good researchers ask why.\n",
      "- Researchers balance needs of client and user.\n",
      "- Ethnographic researchers balance truths.\n",
      "- Ethnographers plan improvisations.\n",
      "- Researchers improvise plans.\n",
      "- Good ethnographers keep looking.\n",
      "- Ask more questions. "
     ]
    },
    {
     "cell_type": "code",
     "collapsed": false,
     "input": [
      "word_dict = {}\n",
      "start_words = []\n",
      "\n",
      "with open('statements.txt', 'r') as statements:\n",
      "    for line in statements:\n",
      "        l = line.lower().rstrip().split()\n",
      "        for i, w in enumerate(l):\n",
      "            if w not in word_dict:\n",
      "                word_dict[w] = []\n",
      "            if i > 0:\n",
      "                word_dict[l[i-1]].append(w)\n",
      "            else:\n",
      "                if w not in start_words:\n",
      "                    start_words.append(w)\n"
     ],
     "language": "python",
     "metadata": {},
     "outputs": [],
     "prompt_number": 1
    },
    {
     "cell_type": "markdown",
     "metadata": {},
     "source": [
      "This gives us the following `word_dict` dictionary and `start_words` list."
     ]
    },
    {
     "cell_type": "code",
     "collapsed": false,
     "input": [
      "word_dict"
     ],
     "language": "python",
     "metadata": {},
     "outputs": [
      {
       "metadata": {},
       "output_type": "pyout",
       "prompt_number": 2,
       "text": [
        "{'a': ['difference.', 'difference.', 'skill.'],\n",
        " 'and': ['user.'],\n",
        " 'answer': ['the', 'the'],\n",
        " 'art.': [],\n",
        " 'ask': ['why.', 'more'],\n",
        " 'balance': ['needs', 'truths.'],\n",
        " 'client': ['and'],\n",
        " 'design': ['makes', 'is'],\n",
        " 'difference.': [],\n",
        " 'digging.': [],\n",
        " 'doing': ['just'],\n",
        " \"don't\": ['answer'],\n",
        " 'enough': ['research'],\n",
        " 'equals': ['experience.'],\n",
        " 'ethnographers': ['plan', 'keep'],\n",
        " 'ethnographic': ['research', 'researchers'],\n",
        " 'ethnography': ['experience', 'truth', 'is'],\n",
        " 'experience': ['is', 'is'],\n",
        " 'experience.': [],\n",
        " 'good': ['design', 'research', 'design', 'researchers', 'ethnographers'],\n",
        " 'illuminates': ['the'],\n",
        " 'improv.': [],\n",
        " 'improvisations.': [],\n",
        " 'improvise': ['plans.'],\n",
        " 'in': ['ethnography', 'ethnography', 'ux'],\n",
        " 'is': ['a', 'truth.', 'the', 'art.', 'key.'],\n",
        " 'just': ['enough'],\n",
        " 'keep': ['looking.'],\n",
        " 'key.': [],\n",
        " 'looking.': [],\n",
        " 'makes': ['a', 'a'],\n",
        " 'more': ['questions.'],\n",
        " 'needs': ['of'],\n",
        " 'of': ['client'],\n",
        " 'path.': [],\n",
        " 'plan': ['improvisations.'],\n",
        " 'plans': ['require'],\n",
        " 'plans.': [],\n",
        " 'point.': [],\n",
        " 'question.': [],\n",
        " 'questions.': [],\n",
        " 'require': ['improv.'],\n",
        " 'requires': ['plans.', 'digging.'],\n",
        " 'research': ['makes', 'illuminates', 'is', 'requires'],\n",
        " 'researchers': ['ask', 'balance', 'balance', 'improvise'],\n",
        " 'right': ['question.'],\n",
        " 'skill.': [],\n",
        " 'the': ['path.', 'right', 'wrong', 'point.'],\n",
        " 'truth': ['equals', 'requires'],\n",
        " 'truth.': [],\n",
        " 'truths.': [],\n",
        " 'user.': [],\n",
        " 'ux': ['experience'],\n",
        " 'why.': [],\n",
        " 'wrong': ['question.']}"
       ]
      }
     ],
     "prompt_number": 2
    },
    {
     "cell_type": "code",
     "collapsed": false,
     "input": [
      "start_words"
     ],
     "language": "python",
     "metadata": {},
     "outputs": [
      {
       "metadata": {},
       "output_type": "pyout",
       "prompt_number": 3,
       "text": [
        "['good',\n",
        " 'ethnographic',\n",
        " 'doing',\n",
        " 'answer',\n",
        " \"don't\",\n",
        " 'in',\n",
        " 'ethnography',\n",
        " 'plans',\n",
        " 'research',\n",
        " 'truth',\n",
        " 'researchers',\n",
        " 'ethnographers',\n",
        " 'ask']"
       ]
      }
     ],
     "prompt_number": 3
    },
    {
     "cell_type": "heading",
     "level": 3,
     "metadata": {},
     "source": [
      "Now start generating new statements"
     ]
    },
    {
     "cell_type": "markdown",
     "metadata": {},
     "source": [
      "Create a starting point for each generated statement."
     ]
    },
    {
     "cell_type": "code",
     "collapsed": false,
     "input": [
      "import random\n",
      "\n",
      "first_word = random.choice(start_words)"
     ],
     "language": "python",
     "metadata": {},
     "outputs": [],
     "prompt_number": 4
    },
    {
     "cell_type": "markdown",
     "metadata": {},
     "source": [
      "When choosing any new words, I start by finding the list of values assoicated with `first_word` in `word_dict`. Next, I select a random word in that list to make the next word in the statement. "
     ]
    },
    {
     "cell_type": "code",
     "collapsed": false,
     "input": [
      "print \"The starting word is {}\".format(first_word)\n",
      "gen_statement = first_word\n",
      "\n",
      "while first_word[-1] != \".\":\n",
      "    # As long as the word does not end with '.', keep adding to the statement!\n",
      "    first_word = random.choice(word_dict[first_word])\n",
      "    gen_statement += \" \" + first_word\n",
      "\n",
      "print gen_statement"
     ],
     "language": "python",
     "metadata": {},
     "outputs": [
      {
       "output_type": "stream",
       "stream": "stdout",
       "text": [
        "The starting word is ethnographic\n",
        "ethnographic research requires plans.\n"
       ]
      }
     ],
     "prompt_number": 5
    },
    {
     "cell_type": "markdown",
     "metadata": {},
     "source": [
      "Since this code will be used to generate tweets, I want to make sure that an appropriate hashtag is added to the statement. I will use #ethnography or #UX."
     ]
    },
    {
     "cell_type": "code",
     "collapsed": false,
     "input": [
      "if \"ethno\" in gen_statement:\n",
      "    gen_statement += \" #ethnography\"\n",
      "else: \n",
      "    gen_statement += \" #UX\"\n",
      "    \n",
      "print gen_statement"
     ],
     "language": "python",
     "metadata": {},
     "outputs": [
      {
       "output_type": "stream",
       "stream": "stdout",
       "text": [
        "ethnographic research requires plans. #ethnography\n"
       ]
      }
     ],
     "prompt_number": 6
    },
    {
     "cell_type": "code",
     "collapsed": false,
     "input": [
      "signature = \" (via #Markov)\"\n",
      "\n",
      "if len(gen_statement) + len(signature) <= 140:\n",
      "    gen_statement += signature\n",
      "\n",
      "print gen_statement"
     ],
     "language": "python",
     "metadata": {},
     "outputs": [
      {
       "output_type": "stream",
       "stream": "stdout",
       "text": [
        "ethnographic research requires plans. #ethnography (via #Markov)\n"
       ]
      }
     ],
     "prompt_number": 7
    },
    {
     "cell_type": "code",
     "collapsed": false,
     "input": [],
     "language": "python",
     "metadata": {},
     "outputs": []
    }
   ],
   "metadata": {}
  }
 ]
}